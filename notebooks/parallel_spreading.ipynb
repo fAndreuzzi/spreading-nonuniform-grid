{
 "cells": [
  {
   "cell_type": "code",
   "execution_count": 29,
   "id": "played-investigation",
   "metadata": {},
   "outputs": [],
   "source": [
    "import numpy as np\n",
    "\n",
    "import dask.array as da\n",
    "from dask.distributed import Client\n",
    "\n",
    "from functools import partial, reduce\n",
    "from itertools import product\n",
    "from math import ceil, floor, log10\n",
    "\n",
    "import matplotlib.pyplot as plt\n",
    "plt.rcParams.update({'font.size': 12})\n",
    "\n",
    "import operator\n",
    "def prod(iterable):\n",
    "    return reduce(operator.mul, iterable, 1)"
   ]
  },
  {
   "cell_type": "code",
   "execution_count": 2,
   "id": "increasing-viewer",
   "metadata": {},
   "outputs": [
    {
     "data": {
      "text/html": [
       "<table style=\"border: 2px solid white;\">\n",
       "<tr>\n",
       "<td style=\"vertical-align: top; border: 0px solid white\">\n",
       "<h3 style=\"text-align: left;\">Client</h3>\n",
       "<ul style=\"text-align: left; list-style: none; margin: 0; padding: 0;\">\n",
       "  <li><b>Scheduler: </b>tcp://127.0.0.1:33518</li>\n",
       "  <li><b>Dashboard: </b><a href='http://127.0.0.1:8787/status' target='_blank'>http://127.0.0.1:8787/status</a></li>\n",
       "</ul>\n",
       "</td>\n",
       "<td style=\"vertical-align: top; border: 0px solid white\">\n",
       "<h3 style=\"text-align: left;\">Cluster</h3>\n",
       "<ul style=\"text-align: left; list-style:none; margin: 0; padding: 0;\">\n",
       "  <li><b>Workers: </b>8</li>\n",
       "  <li><b>Cores: </b>8</li>\n",
       "  <li><b>Memory: </b>16.61 GB</li>\n",
       "</ul>\n",
       "</td>\n",
       "</tr>\n",
       "</table>"
      ],
      "text/plain": [
       "<Client: 'tcp://127.0.0.1:33518' processes=8 threads=8, memory=16.61 GB>"
      ]
     },
     "execution_count": 2,
     "metadata": {},
     "output_type": "execute_result"
    }
   ],
   "source": [
    "client = Client(processes=True, n_workers=8)\n",
    "client"
   ]
  },
  {
   "cell_type": "code",
   "execution_count": 3,
   "id": "positive-illinois",
   "metadata": {},
   "outputs": [],
   "source": [
    "pts = np.reshape(np.meshgrid([0.1 * i for i in range(11)], [0.1 * (i*i) for i in range(16)]),(2,-1)).T\n",
    "N = np.array([len(np.unique(pts[:,i])) for i in range(pts.shape[1])])\n",
    "f = np.array(list(map(lambda v: np.sin(v[0]*np.pi/12) * np.cos(v[1]*np.pi/3), pts)))\n",
    "\n",
    "epsilon = 1.e-10"
   ]
  },
  {
   "cell_type": "code",
   "execution_count": 4,
   "id": "animated-liver",
   "metadata": {},
   "outputs": [],
   "source": [
    "def compute_w(epsilon):\n",
    "    return ceil(log10(1/epsilon)) + 1\n",
    "    \n",
    "def compute_beta(epsilon):\n",
    "    return 2.3 * compute_w(epsilon)\n",
    "\n",
    "def kernel(z, beta):\n",
    "    return np.exp(beta * (np.sqrt(1 - z*z) - 1))\n",
    "\n",
    "def fine_grid_size(nonuniform_grid_size, w, upsampling_factor=2):\n",
    "    # TODO fix\n",
    "    sz = np.ceil(np.maximum(upsampling_factor * nonuniform_grid_size, 2*w*np.ones_like(nonuniform_grid_size)))\n",
    "    return sz.astype(int)\n",
    "\n",
    "def fine_grid_spacing(n):\n",
    "    return 2*np.pi / n\n",
    "\n",
    "def compute_alpha(w, n):\n",
    "    return w * np.pi / n"
   ]
  },
  {
   "cell_type": "code",
   "execution_count": 5,
   "id": "above-kuwait",
   "metadata": {},
   "outputs": [],
   "source": [
    "beta = compute_beta(epsilon)\n",
    "w = compute_w(epsilon)\n",
    "prt_kernel = partial(kernel, beta=beta)\n",
    "\n",
    "n = fine_grid_size(N, w)\n",
    "h = fine_grid_spacing(n)\n",
    "\n",
    "alpha = compute_alpha(w,n)"
   ]
  },
  {
   "cell_type": "code",
   "execution_count": 6,
   "id": "suited-happening",
   "metadata": {},
   "outputs": [],
   "source": [
    "# first (integer) solution of the grid of w^2 points in the\n",
    "# uniform grid being influenced by the non-uniform\n",
    "# point x\n",
    "def solution1(x, h, alpha):\n",
    "    return np.ceil((x - alpha) / h).astype(int)\n",
    "\n",
    "# second (integer) solution of the grid of w^2 points in the\n",
    "# uniform grid being influenced by the non-uniform\n",
    "# point x\n",
    "def solution2(x, h, alpha):\n",
    "    return np.floor((x + alpha) / h).astype(int)"
   ]
  },
  {
   "cell_type": "code",
   "execution_count": 7,
   "id": "documented-aerospace",
   "metadata": {},
   "outputs": [],
   "source": [
    "# kernel must have been vectorized\n",
    "def worker(nonuniform_idx, kernel, h, alpha):\n",
    "    print('worker {} start'.format(nonuniform_idx))\n",
    "    x = pts[nonuniform_idx]\n",
    "    c = f[nonuniform_idx]\n",
    "    \n",
    "    b = np.zeros(n, dtype=float)\n",
    "    \n",
    "    start = solution1(x, h, alpha)\n",
    "    start[start < 0] = 0\n",
    "    end = solution2(x, h, alpha)\n",
    "    end[end > n - 1] = n[end > n - 1] - 1\n",
    "    \n",
    "    krn_transformation = lambda l: np.multiply(l,h) - x\n",
    "    \n",
    "    # kernel evaluated in the uniform grid (translated with the\n",
    "    # non-uniform coordinates)\n",
    "    krn_vals = np.zeros((len(n), np.max(n)), dtype=float)\n",
    "    for i in range(len(start)):\n",
    "        if start[i] <= end[i]:\n",
    "            krn_vals[i,start[i]:(end[i]+1)] = kernel((h[i] * np.arange(start[i], end[i]+1) - x[i]) / alpha[i])\n",
    "            \n",
    "    for cmb in product(*[range(start[i], end[i]+1) for i in range(len(start))]):\n",
    "        b[cmb[0],cmb[1]] += c * prod(krn_vals[i][cmb[i]] for i in range(len(cmb)))\n",
    "        \n",
    "    print('worker {} end'.format(nonuniform_idx))\n",
    "    return b\n",
    "\n",
    "vec_krn = np.vectorize(prt_kernel)"
   ]
  },
  {
   "cell_type": "code",
   "execution_count": 15,
   "id": "emerging-engine",
   "metadata": {},
   "outputs": [],
   "source": [
    "b = np.sum(np.array(client.gather([client.submit(worker, i, vec_krn, h, alpha) for i in range(len(pts))])), axis=0)"
   ]
  },
  {
   "cell_type": "code",
   "execution_count": 31,
   "id": "339e4297",
   "metadata": {},
   "outputs": [
    {
     "data": {
      "image/png": "[encoded data removed]",
      "text/plain": [
       "<Figure size 720x360 with 2 Axes>"
      ]
     },
     "metadata": {
      "needs_background": "light"
     },
     "output_type": "display_data"
    }
   ],
   "source": [
    "plt.figure(figsize=(10,5))\n",
    "plt.pcolormesh(b)\n",
    "plt.colorbar()\n",
    "\n",
    "plt.xlabel('$\\ell_2$')\n",
    "plt.ylabel('$\\ell_1$')\n",
    "\n",
    "plt.xticks(np.arange(n[1])[::5])\n",
    "plt.yticks(np.arange(n[0])[::5])\n",
    "\n",
    "plt.title('$b_{\\ell_1, \\ell_2}$')\n",
    "plt.show()"
   ]
  }
 ],
 "metadata": {
  "kernelspec": {
   "display_name": "Python 3",
   "language": "python",
   "name": "python3"
  },
  "language_info": {
   "codemirror_mode": {
    "name": "ipython",
    "version": 3
   },
   "file_extension": ".py",
   "mimetype": "text/x-python",
   "name": "python",
   "nbconvert_exporter": "python",
   "pygments_lexer": "ipython3",
   "version": "3.6.8"
  }
 },
 "nbformat": 4,
 "nbformat_minor": 5
}
