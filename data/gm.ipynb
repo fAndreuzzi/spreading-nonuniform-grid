{
 "cells": [
  {
   "cell_type": "code",
   "execution_count": 1,
   "id": "every-paste",
   "metadata": {},
   "outputs": [],
   "source": [
    "import numpy as np\n",
    "import matplotlib.pyplot as plt\n",
    "\n",
    "from functools import partial, reduce\n",
    "from itertools import product\n",
    "from math import ceil, floor, log10\n",
    "\n",
    "import operator\n",
    "import sys"
   ]
  },
  {
   "cell_type": "code",
   "execution_count": 2,
   "id": "annoying-buffer",
   "metadata": {},
   "outputs": [],
   "source": [
    "def matrix_to_valuelist(mat):\n",
    "    return mat.flatten(order=\"c\")\n",
    "\n",
    "\n",
    "def axes_to_list(x, y):\n",
    "    return np.vstack(\n",
    "        [np.vstack([np.array([xi, yi])[None, :] for yi in y]) for xi in x]\n",
    "    )\n",
    "\n",
    "\n",
    "def load_data(as_matrix=False):\n",
    "    x = np.load(\"../data/x.npy\")\n",
    "    y = np.load(\"../data/y.npy\")\n",
    "    f = np.load(\"../data/f.npy\")\n",
    "\n",
    "    pts = axes_to_list(x, y)\n",
    "    if not as_matrix:\n",
    "        f = matrix_to_valuelist(f)\n",
    "\n",
    "    assert f.shape[0] == pts.shape[0] or as_matrix\n",
    "\n",
    "    return pts, f\n",
    "\n",
    "\n",
    "def prod(iterable):\n",
    "    return reduce(operator.mul, iterable, 1)\n",
    "\n",
    "\n",
    "def compute_w(epsilon):\n",
    "    return ceil(log10(1 / epsilon)) + 1\n",
    "\n",
    "\n",
    "def compute_beta(epsilon):\n",
    "    return 2.3 * compute_w(epsilon)\n",
    "\n",
    "\n",
    "def kernel(z, beta):\n",
    "    return np.exp(beta * (np.sqrt(1 - z * z) - 1))\n",
    "\n",
    "\n",
    "def nonuniform_grid_size(pts):\n",
    "    return np.array([len(np.unique(pts[:, i])) for i in range(pts.shape[1])])\n",
    "\n",
    "\n",
    "def fine_grid_size(nonuniform_grid_size, w, upsampling_factor=2):\n",
    "    # TODO fix\n",
    "    return np.ceil(\n",
    "        np.maximum(\n",
    "            upsampling_factor * nonuniform_grid_size,\n",
    "            2 * w * np.ones_like(nonuniform_grid_size),\n",
    "        )\n",
    "    ).astype(int)\n",
    "\n",
    "\n",
    "def fine_grid_spacing(n):\n",
    "    return 2 * np.pi / n\n",
    "\n",
    "\n",
    "def compute_alpha(w, n):\n",
    "    return w * np.pi / n\n",
    "\n",
    "\n",
    "# smallest location of the grid of w^2 points in the\n",
    "# uniform grid being influenced by the non-uniform\n",
    "# point x\n",
    "def solution1(x, h, alpha):\n",
    "    return np.ceil((x - alpha) / h).astype(int)\n",
    "\n",
    "\n",
    "# biggest location of the grid of w^2 points in the\n",
    "# uniform grid being influenced by the non-uniform\n",
    "# point x\n",
    "def solution2(x, h, alpha):\n",
    "    return np.floor((x + alpha) / h).astype(int)\n",
    "\n",
    "def compute_krn_vals(kernel, h, x, alpha, start, end):\n",
    "    return kernel(\n",
    "        (h * np.arange(start, end + 1) - x) / alpha\n",
    "    )"
   ]
  },
  {
   "cell_type": "markdown",
   "id": "unable-lighting",
   "metadata": {},
   "source": [
    "## Non-Uniform sampled function"
   ]
  },
  {
   "cell_type": "code",
   "execution_count": 3,
   "id": "external-anthony",
   "metadata": {},
   "outputs": [
    {
     "data": {
      "image/png": "[encoded data removed]",
      "text/plain": [
       "<Figure size 1440x360 with 2 Axes>"
      ]
     },
     "metadata": {
      "needs_background": "light"
     },
     "output_type": "display_data"
    }
   ],
   "source": [
    "plt.figure(figsize=(20,5))\n",
    "\n",
    "f = np.load('../data/f.npy')\n",
    "plt.pcolormesh(f)\n",
    "\n",
    "x = np.load('../data/x.npy')\n",
    "y = np.load('../data/y.npy')\n",
    "plt.xticks(range(f.shape[1]), np.round(x,2))\n",
    "plt.yticks(range(f.shape[0]), np.round(y,2))\n",
    "\n",
    "plt.colorbar();"
   ]
  },
  {
   "cell_type": "markdown",
   "id": "desirable-ukraine",
   "metadata": {},
   "source": [
    "## Loading data"
   ]
  },
  {
   "cell_type": "code",
   "execution_count": 4,
   "id": "quarterly-lloyd",
   "metadata": {},
   "outputs": [
    {
     "name": "stdout",
     "output_type": "stream",
     "text": [
      "beta: 29.9, alpha: [1.57079633 1.20119719]\n",
      "w: 13\n",
      "N: [11 17], n: [26 34]\n",
      "h: [0.24166097 0.18479957]\n",
      "sol1 for pts[0]: [-6 -6]\n",
      "sol2 for pts[0]: [6 6] \n"
     ]
    }
   ],
   "source": [
    "pts, f = load_data()\n",
    "\n",
    "epsilon = 1.e-12\n",
    "N = nonuniform_grid_size(pts)\n",
    "\n",
    "beta = compute_beta(epsilon)\n",
    "w = compute_w(epsilon)\n",
    "prt_kernel = partial(kernel, beta=beta)\n",
    "vec_krn = np.vectorize(prt_kernel)\n",
    "\n",
    "n = fine_grid_size(N, w)\n",
    "h = fine_grid_spacing(n)\n",
    "\n",
    "alpha = compute_alpha(w, n)\n",
    "\n",
    "print('beta: {}, alpha: {}'.format(beta, alpha))\n",
    "print('w: {}'.format(w))\n",
    "print('N: {}, n: {}'.format(N, n))\n",
    "print('h: {}'.format(h))\n",
    "print('sol1 for pts[0]: {}'.format(solution1(pts[0], h, alpha)))\n",
    "print('sol2 for pts[0]: {} '.format(solution2(pts[0], h, alpha)))"
   ]
  },
  {
   "cell_type": "markdown",
   "id": "built-selection",
   "metadata": {},
   "source": [
    "## Computation"
   ]
  },
  {
   "cell_type": "code",
   "execution_count": 5,
   "id": "possible-completion",
   "metadata": {},
   "outputs": [],
   "source": [
    "def worker(nonuniform_idx, pts, f, kernel, n, h, alpha):\n",
    "    x = pts[nonuniform_idx]\n",
    "    c = f[nonuniform_idx]\n",
    "\n",
    "    b = np.zeros(n, dtype=float)\n",
    "    \n",
    "    start = solution1(x, h, alpha)\n",
    "    end = solution2(x, h, alpha)\n",
    "    start[start < 0] = 0\n",
    "    end[end > n - 1] = n[end > n - 1] - 1\n",
    "\n",
    "    # kernel evaluated in the uniform grid (translated with the\n",
    "    # non-uniform coordinates)\n",
    "    krn_vals = np.zeros((len(n), np.max(n)), dtype=float)\n",
    "    for i in range(len(start)):\n",
    "        if start[i] <= end[i]:\n",
    "            krn_vals[i, start[i] : (end[i] + 1)] = compute_krn_vals(kernel, h[i], x[i], alpha[i], start[i], end[i])\n",
    "\n",
    "    for cmb in product(\n",
    "        *[range(start[i], end[i] + 1) for i in range(len(start))]\n",
    "    ):\n",
    "        b[cmb[0], cmb[1]] += c * prod(\n",
    "            krn_vals[i, cmb[i]] for i in range(len(cmb))\n",
    "        )\n",
    "\n",
    "    np.save('../data/b_{}.npy'.format(nonuniform_idx), b)\n",
    "\n",
    "    return krn_vals, b"
   ]
  },
  {
   "cell_type": "code",
   "execution_count": 6,
   "id": "cross-protection",
   "metadata": {},
   "outputs": [],
   "source": [
    "krn_valss, bs = zip(*[worker(i, pts, f, vec_krn, n, h, alpha) for i in range(len(pts))])"
   ]
  },
  {
   "cell_type": "markdown",
   "id": "graduate-basic",
   "metadata": {},
   "source": [
    "## Kernel values"
   ]
  },
  {
   "cell_type": "code",
   "execution_count": 7,
   "id": "focused-symbol",
   "metadata": {
    "scrolled": false
   },
   "outputs": [
    {
     "data": {
      "image/png": "[encoded data removed]",
      "text/plain": [
       "<Figure size 1440x1440 with 24 Axes>"
      ]
     },
     "metadata": {
      "needs_background": "light"
     },
     "output_type": "display_data"
    }
   ],
   "source": [
    "plt.figure(figsize=(20,20))\n",
    "for pos,i in enumerate(range(72,96)):\n",
    "    plt.subplot(8,3,pos+1)\n",
    "    plt.pcolormesh(krn_valss[i])\n",
    "    plt.yticks(range(2), ['X', 'Y'])"
   ]
  },
  {
   "cell_type": "markdown",
   "id": "direct-chinese",
   "metadata": {},
   "source": [
    "## Uniform grid spreading"
   ]
  },
  {
   "cell_type": "code",
   "execution_count": 8,
   "id": "dutch-feedback",
   "metadata": {},
   "outputs": [
    {
     "data": {
      "image/png": "[encoded data removed]",
      "text/plain": [
       "<Figure size 1440x360 with 2 Axes>"
      ]
     },
     "metadata": {
      "needs_background": "light"
     },
     "output_type": "display_data"
    }
   ],
   "source": [
    "b = np.sum(np.array(bs), axis=0)\n",
    "\n",
    "plt.figure(figsize=(20,5))\n",
    "plt.pcolormesh(b)\n",
    "plt.colorbar();"
   ]
  }
 ],
 "metadata": {
  "kernelspec": {
   "display_name": "Python 3",
   "language": "python",
   "name": "python3"
  },
  "language_info": {
   "codemirror_mode": {
    "name": "ipython",
    "version": 3
   },
   "file_extension": ".py",
   "mimetype": "text/x-python",
   "name": "python",
   "nbconvert_exporter": "python",
   "pygments_lexer": "ipython3",
   "version": "3.8.6"
  }
 },
 "nbformat": 4,
 "nbformat_minor": 5
}
