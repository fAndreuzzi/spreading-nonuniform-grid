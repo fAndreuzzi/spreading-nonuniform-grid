{
 "cells": [
  {
   "cell_type": "code",
   "execution_count": 1,
   "id": "worth-bench",
   "metadata": {},
   "outputs": [],
   "source": [
    "import numpy as np\n",
    "from math import log10, ceil, floor\n",
    "from functools import partial\n",
    "from itertools import product\n",
    "import matplotlib.pyplot as plt"
   ]
  },
  {
   "cell_type": "markdown",
   "id": "pressed-stopping",
   "metadata": {},
   "source": [
    "## 1. Spreading"
   ]
  },
  {
   "cell_type": "code",
   "execution_count": 2,
   "id": "conceptual-consequence",
   "metadata": {},
   "outputs": [],
   "source": [
    "def compute_w(epsilon):\n",
    "    return ceil(log10(1/epsilon)) + 1\n",
    "    \n",
    "def compute_beta(epsilon):\n",
    "    return 2.3 * compute_w(epsilon)\n",
    "\n",
    "def fine_grid_size(nonuniform_grid_size, w, upsampling_factor=2):\n",
    "    # TODO fix\n",
    "    sz = np.ceil(np.maximum(upsampling_factor * nonuniform_grid_size, 2*w*np.ones_like(nonuniform_grid_size)))\n",
    "    return sz.astype(int)\n",
    "\n",
    "def fine_grid_spacing(n):\n",
    "    return 2*np.pi / n\n",
    "\n",
    "def kernel(z, beta):\n",
    "    return np.exp(beta * (np.sqrt(1 - z*z) - 1)) if abs(z) <= 1 else 0\n",
    "\n",
    "def compute_alpha(w, n):\n",
    "    return w * np.pi / n\n",
    "\n",
    "# grid of elements of Z (signed integers) such that the kernel function is not zero\n",
    "# on xi - 2 pi mi, i = 0,...,d where d is the number of dimensions\n",
    "def m_grid(point, alpha):\n",
    "    xi = point[0]\n",
    "    alpha_i = alpha[0]\n",
    "    return tuple(\n",
    "        tuple(range(ceil((xi - alpha_i)/(2*np.pi)), floor((xi + alpha_i)/(2*np.pi)) + 1)) \n",
    "            for xi, alpha_i in zip(point, alpha)\n",
    "    ) "
   ]
  },
  {
   "cell_type": "code",
   "execution_count": 3,
   "id": "painful-journalism",
   "metadata": {},
   "outputs": [
    {
     "name": "stdout",
     "output_type": "stream",
     "text": [
      "w = 11, beta = 25.299999999999997\n",
      "N (non-uniform grid) = [11 16], n (uniform grid) = [22 32]\n",
      "h (fine grid spacing) = [0.28559933 0.19634954]\n",
      "alpha = [1.57079633 1.07992247]\n"
     ]
    }
   ],
   "source": [
    "# all the points in R^d where we evaluate the function\n",
    "pts = np.reshape(np.meshgrid([0.1 * i for i in range(11)], [0.1 * (i*i) for i in range(16)]),(2,-1)).T\n",
    "N = np.array([len(np.unique(pts[:,i])) for i in range(pts.shape[1])])\n",
    "\n",
    "epsilon = 1.e-10\n",
    "\n",
    "w = compute_w(epsilon)\n",
    "beta = compute_beta(epsilon)\n",
    "n = fine_grid_size(N, w)\n",
    "h = fine_grid_spacing(n)\n",
    "krn = partial(kernel, beta=beta)\n",
    "alpha = compute_alpha(w,n)\n",
    "\n",
    "print('w = {}, beta = {}'.format(w, beta))\n",
    "print('N (non-uniform grid) = {}, n (uniform grid) = {}'.format(N, n))\n",
    "print('h (fine grid spacing) = {}'.format(h))\n",
    "print('alpha = {}'.format(alpha))"
   ]
  },
  {
   "cell_type": "code",
   "execution_count": 4,
   "id": "passive-marine",
   "metadata": {},
   "outputs": [],
   "source": [
    "def psi(x, alpha, kernel):\n",
    "    krn = np.frompyfunc(kernel, 1, 1)\n",
    "    return np.prod(krn(np.divide(x, alpha)))\n",
    "\n",
    "# takes a point xi in input and the set of integers that make the\n",
    "# |(xi - 2 pi m_i) / alpha_i| <= 1\n",
    "# prt_psi accepts only a vector of coords\n",
    "def psi_per(xi, prt_psi, alpha, verbose=False):\n",
    "    # apply psi to a given combination of m1,..,md\n",
    "    compute_psi = lambda ms: prt_psi(*(xi - 2*np.pi*ms))\n",
    "    \n",
    "    mi = m_grid(xi, alpha)\n",
    "    # assert all(ms for ms in mi)\n",
    "    if not all(mi):\n",
    "        if verbose:\n",
    "            print('[WARNING] no m found for x={}'.format(xi))\n",
    "        return 0\n",
    "    \n",
    "    return sum(map(compute_psi, map(np.array, product(mi))))"
   ]
  },
  {
   "cell_type": "code",
   "execution_count": 5,
   "id": "statewide-illinois",
   "metadata": {},
   "outputs": [],
   "source": [
    "# l is a vector of fine grid indexes\n",
    "# f is the vector of values of the function\n",
    "#    in all the points (i.e. rows) of the matrix x\n",
    "# x is a matrix whose rows are coordinates in which the function\n",
    "#    is evaluated\n",
    "# h is the spacing in the uniform grid\n",
    "def compute_b(l, f, points, h, prt_psi_per):    \n",
    "    sm = 0\n",
    "    lh = np.multiply(l, h)\n",
    "    \n",
    "    assert len(f) == len(points)\n",
    "    for fi, xi in zip(f,points):\n",
    "        sm += fi * prt_psi_per(lh - xi)\n",
    "    return sm"
   ]
  },
  {
   "cell_type": "code",
   "execution_count": 48,
   "id": "precise-retreat",
   "metadata": {},
   "outputs": [
    {
     "data": {
      "text/plain": [
       "2.6426708313214515"
      ]
     },
     "execution_count": 48,
     "metadata": {},
     "output_type": "execute_result"
    },
    {
     "data": {
      "image/png": "[encoded data removed]",
      "text/plain": [
       "<Figure size 432x288 with 1 Axes>"
      ]
     },
     "metadata": {
      "needs_background": "light"
     },
     "output_type": "display_data"
    }
   ],
   "source": [
    "prt_psi = partial(psi, alpha=alpha, kernel=partial(kernel, beta=beta))\n",
    "\n",
    "f = np.array(list(map(lambda v: np.sin(v[0]*np.pi/12) * np.cos(v[1]*np.pi/3), pts)))\n",
    "f_grid = f.reshape(N, order='F')\n",
    "plt.pcolormesh(f_grid)\n",
    "\n",
    "l = np.array([1,1])\n",
    "prt_psi_per = partial(psi_per, prt_psi=prt_psi, alpha=alpha)\n",
    "\n",
    "compute_b(l, f=f, points=pts, h=h, prt_psi_per=prt_psi_per)"
   ]
  },
  {
   "cell_type": "markdown",
   "id": "configured-chicken",
   "metadata": {},
   "source": [
    "## 2. FFT"
   ]
  },
  {
   "cell_type": "code",
   "execution_count": 49,
   "id": "cooperative-offering",
   "metadata": {},
   "outputs": [],
   "source": [
    "prt_compute_b = partial(compute_b, f=f, points=pts, h=h, prt_psi_per=prt_psi_per)\n",
    "b = np.zeros(n, dtype=float)\n",
    "\n",
    "# TODO improve performance\n",
    "for cmb in map(tuple, product(*(range(ni) for ni in n))):\n",
    "    b[cmb] = prt_compute_b(cmb)"
   ]
  },
  {
   "cell_type": "code",
   "execution_count": 50,
   "id": "incoming-vermont",
   "metadata": {},
   "outputs": [
    {
     "data": {
      "image/png": "[encoded data removed]",
      "text/plain": [
       "<Figure size 432x288 with 1 Axes>"
      ]
     },
     "metadata": {
      "needs_background": "light"
     },
     "output_type": "display_data"
    }
   ],
   "source": [
    "plt.pcolormesh(b);"
   ]
  },
  {
   "cell_type": "code",
   "execution_count": 51,
   "id": "published-costume",
   "metadata": {},
   "outputs": [],
   "source": [
    "fftb = np.fft.fftn(b)"
   ]
  },
  {
   "cell_type": "markdown",
   "id": "general-threshold",
   "metadata": {},
   "source": [
    "## Deconvolution"
   ]
  },
  {
   "cell_type": "code",
   "execution_count": 58,
   "id": "romance-proposition",
   "metadata": {},
   "outputs": [],
   "source": [
    "# TODO\n",
    "def kernel_fourier_transform(w):\n",
    "    return 1\n",
    "\n",
    "# translation is a vector containing the original shape of the FFT\n",
    "# which is used to translate back the indexes\n",
    "def correction_factor(frq_indexes, translation, w, kernel, alpha):\n",
    "    vec_krn = np.vectorize(kernel_fourier_transform)\n",
    "    frq_indexes -= translation / 2\n",
    "    return (2/w)*(2/w) / (np.prod(vec_krn(np.multiply(alpha, frq_indexes))))"
   ]
  },
  {
   "cell_type": "code",
   "execution_count": 57,
   "id": "occasional-teens",
   "metadata": {},
   "outputs": [],
   "source": [
    "prt_correction_factor = partial(correction_factor, translation=np.array(fftb.shape), w=w, \n",
    "                                kernel=partial(kernel, beta=beta), alpha=alpha)\n",
    "\n",
    "N_frq = np.array([10,6])\n",
    "p = np.zeros(N_frq, dtype=float)\n",
    "\n",
    "for cmb in product(*(range(ni) for ni in N_frq)):\n",
    "    p[cmb] = prt_correction_factor(cmb)"
   ]
  },
  {
   "cell_type": "code",
   "execution_count": 59,
   "id": "fewer-richards",
   "metadata": {},
   "outputs": [
    {
     "data": {
      "image/png": "[encoded data removed]",
      "text/plain": [
       "<Figure size 1440x360 with 4 Axes>"
      ]
     },
     "metadata": {
      "needs_background": "light"
     },
     "output_type": "display_data"
    }
   ],
   "source": [
    "# assume this is all always even\n",
    "def extract_center(shape, n):\n",
    "    return tuple(slice(shape[i]//2 - n[i]//2, shape[i]//2 + n[i]//2) for i in range(len(n)))\n",
    "\n",
    "cropped_fftb = fftb[extract_center(fftb.shape, N_frq)]\n",
    "#ftilde = np.multiply(p, cropped_fftb)\n",
    "ftilde = cropped_fftb\n",
    "\n",
    "plt.figure(figsize=(20,5))\n",
    "plt.subplot(1,2,1)\n",
    "plt.pcolormesh(ftilde.real)\n",
    "plt.colorbar()\n",
    "plt.title('Real')\n",
    "plt.subplot(1,2,2)\n",
    "plt.pcolormesh(ftilde.imag)\n",
    "plt.colorbar()\n",
    "plt.title('Imag')\n",
    "plt.show()"
   ]
  }
 ],
 "metadata": {
  "kernelspec": {
   "display_name": "Python 3",
   "language": "python",
   "name": "python3"
  },
  "language_info": {
   "codemirror_mode": {
    "name": "ipython",
    "version": 3
   },
   "file_extension": ".py",
   "mimetype": "text/x-python",
   "name": "python",
   "nbconvert_exporter": "python",
   "pygments_lexer": "ipython3",
   "version": "3.8.6"
  }
 },
 "nbformat": 4,
 "nbformat_minor": 5
}
