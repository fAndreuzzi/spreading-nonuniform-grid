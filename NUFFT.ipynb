{
 "cells": [
  {
   "cell_type": "code",
   "execution_count": 1,
   "id": "worth-bench",
   "metadata": {},
   "outputs": [],
   "source": [
    "import numpy as np\n",
    "from math import log10, ceil, floor\n",
    "from functools import partial\n",
    "from itertools import product"
   ]
  },
  {
   "cell_type": "markdown",
   "id": "pressed-stopping",
   "metadata": {},
   "source": [
    "## 1. Spreading"
   ]
  },
  {
   "cell_type": "code",
   "execution_count": 2,
   "id": "conceptual-consequence",
   "metadata": {},
   "outputs": [],
   "source": [
    "def compute_w(epsilon):\n",
    "    return ceil(log10(1/epsilon)) + 1\n",
    "    \n",
    "def compute_beta(epsilon):\n",
    "    return 2.3 * compute_w(epsilon)\n",
    "\n",
    "def fine_grid_size(nonuniform_grid_size, w, upsampling_factor=2):\n",
    "    # TODO fix\n",
    "    sz = np.ceil(np.maximum(upsampling_factor * nonuniform_grid_size, 2*w*np.ones_like(nonuniform_grid_size)))\n",
    "    return sz.astype(int)\n",
    "\n",
    "def fine_grid_spacing(n):\n",
    "    return 2*np.pi / n\n",
    "\n",
    "def kernel(z, beta):\n",
    "    return np.exp(beta * (np.sqrt(1 - np.power(z, 2)) - 1)) if abs(z) <= 1 else 0\n",
    "\n",
    "def compute_alpha(w, n):\n",
    "    return w * np.pi / n\n",
    "\n",
    "# grid of elements of Z (signed integers) such that the kernel function is not zero\n",
    "# on xi - 2 pi mi, i = 0,...,d where d is the number of dimensions\n",
    "def m_grid(point, alpha):\n",
    "    return tuple(\n",
    "        tuple(range(ceil((xi - alpha_i)/(2*np.pi)), floor((xi + alpha_i)/(2*np.pi)) + 1)) \n",
    "            for xi, alpha_i in zip(point, alpha)\n",
    "    ) "
   ]
  },
  {
   "cell_type": "code",
   "execution_count": 3,
   "id": "painful-journalism",
   "metadata": {},
   "outputs": [
    {
     "name": "stdout",
     "output_type": "stream",
     "text": [
      "w = 13, beta = 29.9\n",
      "N (non-uniform grid) = [50 50 20], n (uniform grid) = [100 100  40]\n",
      "h (fine grid spacing) = [0.06283185 0.06283185 0.15707963]\n",
      "alpha = [0.40840704 0.40840704 1.02101761]\n"
     ]
    }
   ],
   "source": [
    "# all the points in R^3 where we evaluate the function\n",
    "x = [np.array([0,0,0]), np.array([0.5,0.5,0]), np.array([0.5,0.5,0.5]), np.array([-0.5,-0.5,0]),\n",
    "    np.array([-0.5,0.5,0])]\n",
    "N = np.array([50,50,20])\n",
    "epsilon = 1.e-12\n",
    "\n",
    "w = compute_w(epsilon)\n",
    "beta = compute_beta(epsilon)\n",
    "n = fine_grid_size(N, w)\n",
    "h = fine_grid_spacing(n)\n",
    "krn = partial(kernel, beta=beta)\n",
    "alpha = compute_alpha(w,n)\n",
    "\n",
    "print('w = {}, beta = {}'.format(w, beta))\n",
    "print('N (non-uniform grid) = {}, n (uniform grid) = {}'.format(N, n))\n",
    "print('h (fine grid spacing) = {}'.format(h))\n",
    "print('alpha = {}'.format(alpha))"
   ]
  },
  {
   "cell_type": "code",
   "execution_count": 4,
   "id": "passive-marine",
   "metadata": {},
   "outputs": [],
   "source": [
    "def psi(x, alpha, kernel):\n",
    "    krn = np.frompyfunc(kernel, 1, 1)\n",
    "    return np.prod(krn(np.divide(x, alpha)))\n",
    "\n",
    "# takes a point xi in input and the set of integers that make the\n",
    "# |(xi - 2 pi m_i) / alpha_i| <= 1\n",
    "# prt_psi accepts only a vector of coords\n",
    "def psi_per(xi, prt_psi, alpha):\n",
    "    # apply psi to a given combination of m1,..,md\n",
    "    compute_psi = lambda ms: prt_psi(*(xi - 2*np.pi*ms))\n",
    "    \n",
    "    mi = m_grid(xi, alpha)\n",
    "    assert all(ms for ms in mi)\n",
    "    \n",
    "    return sum(map(compute_psi, map(np.array, product(mi))))"
   ]
  },
  {
   "cell_type": "code",
   "execution_count": 5,
   "id": "dominant-printer",
   "metadata": {},
   "outputs": [
    {
     "ename": "AssertionError",
     "evalue": "",
     "output_type": "error",
     "traceback": [
      "\u001b[0;31m---------------------------------------------------------------------------\u001b[0m",
      "\u001b[0;31mAssertionError\u001b[0m                            Traceback (most recent call last)",
      "\u001b[0;32m<ipython-input-5-efef4acf8505>\u001b[0m in \u001b[0;36m<module>\u001b[0;34m\u001b[0m\n\u001b[1;32m      1\u001b[0m \u001b[0mprt_psi\u001b[0m \u001b[0;34m=\u001b[0m \u001b[0mpartial\u001b[0m\u001b[0;34m(\u001b[0m\u001b[0mpsi\u001b[0m\u001b[0;34m,\u001b[0m \u001b[0malpha\u001b[0m\u001b[0;34m=\u001b[0m\u001b[0malpha\u001b[0m\u001b[0;34m,\u001b[0m \u001b[0mkernel\u001b[0m\u001b[0;34m=\u001b[0m\u001b[0mkrn\u001b[0m\u001b[0;34m)\u001b[0m\u001b[0;34m\u001b[0m\u001b[0;34m\u001b[0m\u001b[0m\n\u001b[0;32m----> 2\u001b[0;31m \u001b[0mpsi_per\u001b[0m\u001b[0;34m(\u001b[0m\u001b[0mx\u001b[0m\u001b[0;34m[\u001b[0m\u001b[0;36m3\u001b[0m\u001b[0;34m]\u001b[0m\u001b[0;34m,\u001b[0m \u001b[0mprt_psi\u001b[0m\u001b[0;34m,\u001b[0m \u001b[0malpha\u001b[0m\u001b[0;34m=\u001b[0m\u001b[0malpha\u001b[0m\u001b[0;34m)\u001b[0m\u001b[0;34m\u001b[0m\u001b[0;34m\u001b[0m\u001b[0m\n\u001b[0m",
      "\u001b[0;32m<ipython-input-4-06378093684a>\u001b[0m in \u001b[0;36mpsi_per\u001b[0;34m(xi, prt_psi, alpha)\u001b[0m\n\u001b[1;32m     11\u001b[0m \u001b[0;34m\u001b[0m\u001b[0m\n\u001b[1;32m     12\u001b[0m     \u001b[0mmi\u001b[0m \u001b[0;34m=\u001b[0m \u001b[0mm_grid\u001b[0m\u001b[0;34m(\u001b[0m\u001b[0mxi\u001b[0m\u001b[0;34m,\u001b[0m \u001b[0malpha\u001b[0m\u001b[0;34m)\u001b[0m\u001b[0;34m\u001b[0m\u001b[0;34m\u001b[0m\u001b[0m\n\u001b[0;32m---> 13\u001b[0;31m     \u001b[0;32massert\u001b[0m \u001b[0mall\u001b[0m\u001b[0;34m(\u001b[0m\u001b[0mms\u001b[0m \u001b[0;32mfor\u001b[0m \u001b[0mms\u001b[0m \u001b[0;32min\u001b[0m \u001b[0mmi\u001b[0m\u001b[0;34m)\u001b[0m\u001b[0;34m\u001b[0m\u001b[0;34m\u001b[0m\u001b[0m\n\u001b[0m\u001b[1;32m     14\u001b[0m \u001b[0;34m\u001b[0m\u001b[0m\n\u001b[1;32m     15\u001b[0m     \u001b[0;32mreturn\u001b[0m \u001b[0msum\u001b[0m\u001b[0;34m(\u001b[0m\u001b[0mmap\u001b[0m\u001b[0;34m(\u001b[0m\u001b[0mcompute_psi\u001b[0m\u001b[0;34m,\u001b[0m \u001b[0mmap\u001b[0m\u001b[0;34m(\u001b[0m\u001b[0mnp\u001b[0m\u001b[0;34m.\u001b[0m\u001b[0marray\u001b[0m\u001b[0;34m,\u001b[0m \u001b[0mproduct\u001b[0m\u001b[0;34m(\u001b[0m\u001b[0mmi\u001b[0m\u001b[0;34m)\u001b[0m\u001b[0;34m)\u001b[0m\u001b[0;34m)\u001b[0m\u001b[0;34m)\u001b[0m\u001b[0;34m\u001b[0m\u001b[0;34m\u001b[0m\u001b[0m\n",
      "\u001b[0;31mAssertionError\u001b[0m: "
     ]
    }
   ],
   "source": [
    "prt_psi = partial(psi, alpha=alpha, kernel=krn)\n",
    "psi_per(x[3], prt_psi, alpha=alpha)"
   ]
  },
  {
   "cell_type": "code",
   "execution_count": null,
   "id": "statewide-illinois",
   "metadata": {},
   "outputs": [],
   "source": [
    "# l is a vector of fine grid indexes\n",
    "# f is the vector of values of the function\n",
    "#    in all the points (i.e. rows) of the matrix x\n",
    "# x is a matrix whose rows are coordinates in which the function\n",
    "#    is evaluated\n",
    "# h is the spacing in the uniform grid\n",
    "def compute_b(l, f, x, h, prt_psi_per):    \n",
    "    sm = 0\n",
    "    lh = np.multiply(l, h)\n",
    "    for fi, xi in zip(f,x):\n",
    "        sm += fi * prt_psi_per(lh - xi)\n",
    "    return sm"
   ]
  },
  {
   "cell_type": "code",
   "execution_count": null,
   "id": "precise-retreat",
   "metadata": {},
   "outputs": [],
   "source": [
    "f = np.array([i for i in range(len(x))])\n",
    "l = np.array([1,1,1])\n",
    "prt_psi_per = partial(psi_per, prt_psi=prt_psi, alpha=alpha)\n",
    "\n",
    "compute_b(l, f=f, x=x, h=h, prt_psi_per=prt_psi_per)"
   ]
  },
  {
   "cell_type": "markdown",
   "id": "configured-chicken",
   "metadata": {},
   "source": [
    "## 2. FFT"
   ]
  },
  {
   "cell_type": "code",
   "execution_count": null,
   "id": "cooperative-offering",
   "metadata": {},
   "outputs": [],
   "source": [
    "prt_compute_b = partial(compute_b, f=f, x=x, h=h, prt_psi_per=prt_psi_per)\n",
    "b = np.zeros(n, dtype=float)\n",
    "\n",
    "# TODO improve performance\n",
    "for cmb in map(np.array, product(*[range(ni) for ni in n])):\n",
    "    b[cmb] = prt_compute_b(cmb)"
   ]
  }
 ],
 "metadata": {
  "kernelspec": {
   "display_name": "Python 3",
   "language": "python",
   "name": "python3"
  },
  "language_info": {
   "codemirror_mode": {
    "name": "ipython",
    "version": 3
   },
   "file_extension": ".py",
   "mimetype": "text/x-python",
   "name": "python",
   "nbconvert_exporter": "python",
   "pygments_lexer": "ipython3",
   "version": "3.8.6"
  }
 },
 "nbformat": 4,
 "nbformat_minor": 5
}
